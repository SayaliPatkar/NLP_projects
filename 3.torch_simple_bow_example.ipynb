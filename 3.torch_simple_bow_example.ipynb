{
 "cells": [
  {
   "cell_type": "code",
   "execution_count": 27,
   "metadata": {},
   "outputs": [],
   "source": [
    "import torch\n",
    "import torch.nn as nn\n",
    "import torch.nn.functional as F\n",
    "import torch.optim as optim"
   ]
  },
  {
   "cell_type": "code",
   "execution_count": 28,
   "metadata": {},
   "outputs": [
    {
     "name": "stdout",
     "output_type": "stream",
     "text": [
      "{'me': 0, 'gusta': 1, 'comer': 2, 'en': 3, 'la': 4, 'cafeteria': 5, 'Give': 6, 'it': 7, 'to': 8, 'No': 9, 'creo': 10, 'que': 11, 'sea': 12, 'una': 13, 'buena': 14, 'idea': 15, 'is': 16, 'not': 17, 'a': 18, 'good': 19, 'get': 20, 'lost': 21, 'at': 22, 'Yo': 23, 'si': 24, 'on': 25}\n",
      "{'SPANISH': 0, 'ENGLISH': 1}\n"
     ]
    }
   ],
   "source": [
    "data = [(\"me gusta comer en la cafeteria\".split(), \"SPANISH\"),\n",
    "        (\"Give it to me\".split(), \"ENGLISH\"),\n",
    "        (\"No creo que sea una buena idea\".split(), \"SPANISH\"),\n",
    "        (\"No it is not a good idea to get lost at sea\".split(), \"ENGLISH\")]\n",
    "\n",
    "test_data = [(\"Yo creo que si\".split(), \"SPANISH\"),\n",
    "             (\"it is lost on me\".split(), \"ENGLISH\")]\n",
    "\n",
    "# build vocabulary by assigning each unique qord it's own index\n",
    "vocab = {}\n",
    "labels = {}\n",
    "for sent, lab in data + test_data:\n",
    "    for word in sent:\n",
    "        if word not in vocab:\n",
    "            vocab[word] = len(vocab)\n",
    "    if lab not in labels:\n",
    "        labels[lab] = len(labels)\n",
    "\n",
    "print(vocab)\n",
    "print(labels)\n",
    "\n",
    "VOCAB_SIZE = len(vocab)\n",
    "NUM_LABELS = len(labels)"
   ]
  },
  {
   "cell_type": "code",
   "execution_count": 29,
   "metadata": {},
   "outputs": [],
   "source": [
    "class BoWClassifier(nn.Module):  # inheriting from nn.Module!\n",
    "\n",
    "    def __init__(self, num_labels, vocab_size):\n",
    "        # calls the init function of nn.Module.  Dont get confused by syntax,\n",
    "        # just always do it in an nn.Module\n",
    "        super(BoWClassifier, self).__init__()\n",
    "\n",
    "        # Define the parameters that you will need.  In this case, we need A and b,\n",
    "        # the parameters of the affine mapping.\n",
    "        # Torch defines nn.Linear(), which provides the affine map.\n",
    "        # Make sure you understand why the input dimension is vocab_size\n",
    "        # and the output is num_labels!\n",
    "        self.linear = nn.Linear(vocab_size, num_labels)\n",
    "\n",
    "        # NOTE! The non-linearity log softmax does not have parameters! So we don't need\n",
    "        # to worry about that here\n",
    "\n",
    "    def forward(self, bow_vec):\n",
    "        # Pass the input through the linear layer,\n",
    "        # then pass that through log_softmax.\n",
    "        # Many non-linearities and other functions are in torch.nn.functional\n",
    "        return F.log_softmax(self.linear(bow_vec), dim=1)\n",
    "\n",
    "def get_key(dictionary, val): \n",
    "    for key, value in dictionary.items(): \n",
    "         if val == value: \n",
    "            return key \n",
    "  \n",
    "    return \"key doesn't exist\"\n",
    "  "
   ]
  },
  {
   "cell_type": "code",
   "execution_count": 30,
   "metadata": {},
   "outputs": [],
   "source": [
    "def make_bow_vector(sentence, vocab):\n",
    "    vec = torch.zeros(VOCAB_SIZE)\n",
    "    for word in sentence:\n",
    "        vec[vocab[word]] += 1\n",
    "    return vec.view(1, -1)\n",
    "\n",
    "\n",
    "def make_target(lab, labels):\n",
    "    return torch.LongTensor([labels[lab]])"
   ]
  },
  {
   "cell_type": "code",
   "execution_count": 31,
   "metadata": {},
   "outputs": [
    {
     "name": "stdout",
     "output_type": "stream",
     "text": [
      "Parameter containing:\n",
      "tensor([[-0.0961,  0.0703,  0.1912,  0.1877,  0.1613, -0.1460,  0.0187,  0.1140,\n",
      "         -0.1740,  0.1363,  0.1667,  0.0098,  0.1887,  0.1470, -0.1912,  0.1458,\n",
      "         -0.0378, -0.1044,  0.1218,  0.0467, -0.1201, -0.1559, -0.0839, -0.0589,\n",
      "          0.1567,  0.1368],\n",
      "        [ 0.0110, -0.0164,  0.0794,  0.0679, -0.0557,  0.0086, -0.1139, -0.0593,\n",
      "         -0.0156,  0.1427, -0.0043,  0.1025, -0.1779, -0.1048,  0.1961,  0.1876,\n",
      "         -0.1954, -0.0689, -0.1646, -0.1470, -0.1670,  0.0085, -0.1381,  0.0012,\n",
      "          0.1302,  0.0108]], requires_grad=True)\n",
      "Parameter containing:\n",
      "tensor([-0.0245,  0.1824], requires_grad=True)\n"
     ]
    }
   ],
   "source": [
    "model = BoWClassifier(NUM_LABELS, VOCAB_SIZE)\n",
    "\n",
    "for param in model.parameters():\n",
    "    print(param)"
   ]
  },
  {
   "cell_type": "code",
   "execution_count": 32,
   "metadata": {},
   "outputs": [
    {
     "name": "stdout",
     "output_type": "stream",
     "text": [
      "tensor([[-0.7776, -0.6153]])\n",
      "Predicted ::  ENGLISH   Ground truth ::  SPANISH\n",
      "tensor([[-0.7039, -0.6825]])\n",
      "Predicted ::  ENGLISH   Ground truth ::  ENGLISH\n",
      "tensor([ 0.1667, -0.0043], grad_fn=<SelectBackward>)\n"
     ]
    }
   ],
   "source": [
    "# Run on test data before we train, just to see a before-and-after\n",
    "with torch.no_grad():\n",
    "    for instance, label in test_data:\n",
    "        bow_vec = make_bow_vector(instance, vocab)\n",
    "        log_probs = model(bow_vec)\n",
    "        print(log_probs)\n",
    "        label_pred = get_key(labels, log_probs.view(1, -1).argmax(1).item())\n",
    "        print('Predicted :: ' , label_pred, '  Ground truth :: ', label)\n",
    "\n",
    "# Print the matrix column corresponding to \"creo\"\n",
    "print(next(model.parameters())[:, vocab[\"creo\"]])"
   ]
  },
  {
   "cell_type": "code",
   "execution_count": 33,
   "metadata": {},
   "outputs": [],
   "source": [
    "loss_function = nn.NLLLoss()\n",
    "optimizer = optim.SGD(model.parameters(), lr=0.1)\n",
    "\n",
    "# Usually you want to pass over the training data several times.\n",
    "# 100 is much bigger than on a real data set, but real datasets have more than\n",
    "# two instances.  Usually, somewhere between 5 and 30 epochs is reasonable.\n",
    "for epoch in range(10):\n",
    "    for instance, label in data:\n",
    "        # Step 1. PyTorch accumulates gradients.\n",
    "        # We need to clear them out before each instance\n",
    "        model.zero_grad()\n",
    "\n",
    "        # Step 2. Make our BOW vector and also we must wrap the target in a\n",
    "        # Tensor as an integer. For example, if the target is SPANISH, then\n",
    "        # we wrap the integer 0. The loss function then knows that the 0th\n",
    "        # element of the log probabilities is the log probability\n",
    "        # corresponding to SPANISH\n",
    "        bow_vec = make_bow_vector(instance, vocab)\n",
    "        target = make_target(label, labels)\n",
    "\n",
    "        # Step 3. Run our forward pass.\n",
    "        log_probs = model(bow_vec)\n",
    "\n",
    "        # Step 4. Compute the loss, gradients, and update the parameters by\n",
    "        # calling optimizer.step()\n",
    "        loss = loss_function(log_probs, target)\n",
    "        loss.backward()\n",
    "        optimizer.step()\n"
   ]
  },
  {
   "cell_type": "code",
   "execution_count": 35,
   "metadata": {},
   "outputs": [
    {
     "name": "stdout",
     "output_type": "stream",
     "text": [
      "tensor([[-0.3510, -1.2174]])\n",
      "Predicted ::  SPANISH   Ground truth ::  SPANISH\n",
      "tensor([[-1.6799, -0.2063]])\n",
      "Predicted ::  ENGLISH   Ground truth ::  ENGLISH\n",
      "tensor([ 0.4006, -0.2383], grad_fn=<SelectBackward>)\n"
     ]
    }
   ],
   "source": [
    "with torch.no_grad():\n",
    "    for instance, label in test_data:\n",
    "        bow_vec = make_bow_vector(instance, vocab)\n",
    "        log_probs = model(bow_vec)\n",
    "        print(log_probs)\n",
    "        label_pred = get_key(labels, log_probs.view(1, -1).argmax(1).item())\n",
    "        print('Predicted :: ' , label_pred, '  Ground truth :: ', label)\n",
    "        \n",
    "# Index corresponding to Spanish goes up, English goes down!\n",
    "print(next(model.parameters())[:, word_to_ix[\"creo\"]])"
   ]
  },
  {
   "cell_type": "code",
   "execution_count": null,
   "metadata": {},
   "outputs": [],
   "source": []
  }
 ],
 "metadata": {
  "kernelspec": {
   "display_name": "torch_venv",
   "language": "python",
   "name": "torch_venv"
  },
  "language_info": {
   "codemirror_mode": {
    "name": "ipython",
    "version": 3
   },
   "file_extension": ".py",
   "mimetype": "text/x-python",
   "name": "python",
   "nbconvert_exporter": "python",
   "pygments_lexer": "ipython3",
   "version": "3.7.7"
  }
 },
 "nbformat": 4,
 "nbformat_minor": 4
}
